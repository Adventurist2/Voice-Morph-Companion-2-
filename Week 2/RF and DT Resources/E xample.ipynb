{
 "cells": [
  {
   "cell_type": "markdown",
   "metadata": {},
   "source": [
    "# Random Forests Implementation from Scratch \n",
    "- Try Analysing what is happening \n",
    "- Don't get stuck for long\n"
   ]
  },
  {
   "cell_type": "code",
   "execution_count": null,
   "metadata": {},
   "outputs": [],
   "source": [
    "import random\n",
    "import pandas as pd\n",
    "import numpy as np\n",
    "\n",
    "# Define a Decision Tree class\n",
    "class DecisionTree:\n",
    "    def __init__(self, max_depth, min_samples_split):\n",
    "        self.max_depth = max_depth\n",
    "        self.min_samples_split = min_samples_split\n",
    "        self.tree = {}\n",
    "\n",
    "    def entropy(self, y):\n",
    "        _, counts = np.unique(y, return_counts=True)\n",
    "        probabilities = counts / len(y)\n",
    "        entropy = sum(probabilities * -np.log2(probabilities))\n",
    "        return entropy\n",
    "\n",
    "    def information_gain(self, X_column, y, threshold):\n",
    "        left_idxs, right_idxs = self.split(X_column, threshold)\n",
    "        left_y = y[left_idxs]\n",
    "        right_y = y[right_idxs]\n",
    "        child_entropy = self.entropy(left_y) + self.entropy(right_y)\n",
    "        ig = self.entropy(y) - child_entropy\n",
    "        return ig\n",
    "\n",
    "    def split(self, X_column, threshold):\n",
    "        left_idxs = np.argwhere(X_column <= threshold).flatten()\n",
    "        right_idxs = np.argwhere(X_column > threshold).flatten()\n",
    "        return left_idxs, right_idxs\n",
    "\n",
    "    def most_common_label(self, y):\n",
    "        counter = counter(y)\n",
    "        most_common = counter.most_common(1)\n",
    "        return most_common[0][0]\n",
    "\n",
    "    def build_tree(self, X, y, depth=0):\n",
    "        if depth == self.max_depth or len(y) < self.min_samples_split:\n",
    "            self.tree['label'] = self.most_common_label(y)\n",
    "            return\n",
    "        column, threshold = self.find_split_point(X, y)\n",
    "        self.tree['feature_idx'] = column\n",
    "        self.tree['split_point'] = threshold\n",
    "        left_idxs, right_idxs = self.split(X[:, column], threshold)\n",
    "        self.tree['left_split'] = {}\n",
    "        self.tree['right_split'] = {}\n",
    "        self.build_tree(X[left_idxs], y[left_idxs], depth=depth+1)\n",
    "        self.build_tree(X[right_idxs], y[right_idxs], depth=depth+1)\n",
    "\n",
    "    def predict_tree(self, X_test):\n",
    "        feature_idx = self.tree['feature_idx']\n",
    "        if X_test[feature_idx] <= self.tree['split_point']:\n",
    "            if 'left_split' in self.tree:\n",
    "                return self.predict_tree(self.tree['left_split'], X_test)\n",
    "            else:\n",
    "                return self.tree['label']\n",
    "        else:\n",
    "            if 'right_split' in self.tree:\n",
    "                return self.predict_tree(self.tree['right_split'], X_test)\n",
    "            else:\n",
    "                return self.tree['label']\n",
    "\n",
    "# Define a Random Forest class\n",
    "class RandomForest:\n",
    "    def __init__(self, n_trees, max_depth, min_samples_split, max_features):\n",
    "        self.n_trees = n_trees\n",
    "        self.max_depth = max_depth\n",
    "        self.min_samples_split = min_samples_split\n",
    "        self.max_features = max_features\n",
    "        self.trees = []\n",
    "\n",
    "    def build_trees(self, X, y):\n",
    "        for i in range(self.n_trees):\n",
    "            tree = DecisionTree(self.max_depth, self.min_samples_split)\n",
    "            column_idxs = np.random.choice(X.shape[1], self.max_features, replace=False)\n",
    "            X_column_subset = X[:, column_idxs]\n",
    "            tree.build_tree(X_column_subset, y)\n",
    "            self.trees.append(tree)\n",
    "\n",
    "    def predict_rf(self, X_test):\n",
    "        ensemble_preds = [tree.predict_tree(X_test) for tree in self.trees]\n",
    "        final_pred = max(ensemble_preds)"
   ]
  },
  {
   "cell_type": "markdown",
   "metadata": {},
   "source": [
    "# Sample Random Forest Implementation"
   ]
  },
  {
   "cell_type": "code",
   "execution_count": 6,
   "metadata": {},
   "outputs": [
    {
     "name": "stdout",
     "output_type": "stream",
     "text": [
      "[0 2 2]\n"
     ]
    }
   ],
   "source": [
    "from sklearn.ensemble import RandomForestClassifier\n",
    "from sklearn.datasets import load_iris\n",
    "\n",
    "# Load iris dataset\n",
    "iris = load_iris()\n",
    "X = iris.data\n",
    "y = iris.target\n",
    "\n",
    "# Initialize random forest classifier with 100 trees\n",
    "rf = RandomForestClassifier(n_estimators=100)\n",
    "\n",
    "# Fit the model to the data\n",
    "rf.fit(X, y)\n",
    "\n",
    "# Make predictions on new data\n",
    "X_test = [[5.0, 3.5, 1.3, 0.2], [6.0, 3.0, 4.8, 1.8], [7.3, 2.9, 6.3, 1.8]]\n",
    "y_pred = rf.predict(X_test)\n",
    "\n",
    "print(y_pred)"
   ]
  },
  {
   "cell_type": "markdown",
   "metadata": {},
   "source": [
    "# Decision Tree Implementation "
   ]
  },
  {
   "cell_type": "code",
   "execution_count": 9,
   "metadata": {},
   "outputs": [
    {
     "name": "stdout",
     "output_type": "stream",
     "text": [
      "(150, 4)\n",
      "(150,)\n",
      "[0 2 2]\n"
     ]
    }
   ],
   "source": [
    "from sklearn.tree import DecisionTreeClassifier\n",
    "from sklearn.datasets import load_iris\n",
    "\n",
    "# Load iris dataset\n",
    "iris = load_iris()\n",
    "X = iris.data\n",
    "print(X.shape)\n",
    "y = iris.target\n",
    "\n",
    "# Initialize decision tree classifier with max_depth=3\n",
    "dt = DecisionTreeClassifier(max_depth=3)\n",
    "\n",
    "# Fit the model to the data\n",
    "dt.fit(X, y)\n",
    "\n",
    "# Make predictions on new data\n",
    "X_test = [[5.0, 3.5, 1.3, 0.2], [6.0, 3.0, 4.8, 1.8], [7.3, 2.9, 6.3, 1.8]]\n",
    "y_pred = dt.predict(X_test)\n",
    "\n",
    "print(y_pred)"
   ]
  }
 ],
 "metadata": {
  "kernelspec": {
   "display_name": "Python 3",
   "language": "python",
   "name": "python3"
  },
  "language_info": {
   "codemirror_mode": {
    "name": "ipython",
    "version": 3
   },
   "file_extension": ".py",
   "mimetype": "text/x-python",
   "name": "python",
   "nbconvert_exporter": "python",
   "pygments_lexer": "ipython3",
   "version": "3.9.9"
  }
 },
 "nbformat": 4,
 "nbformat_minor": 2
}
